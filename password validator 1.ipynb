{
 "cells": [
  {
   "cell_type": "code",
   "execution_count": 3,
   "id": "2727212c-bf53-4af9-ae46-adfd0778f090",
   "metadata": {},
   "outputs": [
    {
     "name": "stdout",
     "output_type": "stream",
     "text": [
      "Welcome to the Password Validator!\n"
     ]
    },
    {
     "name": "stdin",
     "output_type": "stream",
     "text": [
      "Please enter a password:  ········\n"
     ]
    },
    {
     "name": "stdout",
     "output_type": "stream",
     "text": [
      "Password must contain at least one special character.\n",
      "Password Strength: Medium\n"
     ]
    }
   ],
   "source": [
    "import re\n",
    "import getpass\n",
    "\n",
    "class PasswordValidator:\n",
    "    def __init__(self, password):\n",
    "        \"\"\"Constructor to initialize the PasswordValidator with a password.\"\"\"\n",
    "        self.password = password\n",
    "    def validate(self):\n",
    "        \"\"\"Validates the password and handles errors.\"\"\"\n",
    "        try:\n",
    "            if not self.password:\n",
    "                raise ValueError(\"No password entered.\")\n",
    "            feedback, strength = self._validate_password()\n",
    "            return feedback, strength\n",
    "        except ValueError as ve:\n",
    "            return f\"Validation error: {ve}\"\n",
    "        except Exception as e:\n",
    "            return f\"An unexpected error occurred: {e}\"\n",
    "    def _validate_password(self):\n",
    "        \"\"\"Internal method to validate the password and assess its strength.\"\"\"\n",
    "        score = 0\n",
    "        feedback = []\n",
    "        if len(self.password) < 8:\n",
    "            feedback.append(\"Password must be at least 8 characters long.\")\n",
    "        else:\n",
    "            score += 1\n",
    "        if not re.search(r'[A-Z]', self.password):\n",
    "            feedback.append(\"Password must contain at least one uppercase letter.\")\n",
    "        else:\n",
    "            score += 1\n",
    "        if not re.search(r'[a-z]', self.password):\n",
    "            feedback.append(\"Password must contain at least one lowercase letter.\")\n",
    "        else:\n",
    "            score += 1\n",
    "        if not re.search(r'\\d', self.password):\n",
    "            feedback.append(\"Password must contain at least one digit.\")\n",
    "        else:\n",
    "            score += 1\n",
    "        if not re.search(r'[!@#$%^&*(),.?\":{}|<>]', self.password):\n",
    "            feedback.append(\"Password must contain at least one special character.\")\n",
    "        else:\n",
    "            score += 1\n",
    "        if score <= 2:\n",
    "            strength = \"Weak\"\n",
    "        elif score == 3 or score == 4:\n",
    "            strength = \"Medium\"\n",
    "        else:\n",
    "            strength = \"Strong\"\n",
    "        if feedback:\n",
    "            return \"\\n\".join(feedback), strength\n",
    "        else:\n",
    "            return \"Password is valid.\", strength\n",
    "\n",
    "def password_validator():\n",
    "    \"\"\"Function to prompt user input and validate the password.\"\"\"\n",
    "    print(\"Welcome to the Password Validator!\")\n",
    "    try:        \n",
    "        password = getpass.getpass(\"Please enter a password: \")\n",
    "        validator = PasswordValidator(password)\n",
    "        result, strength = validator.validate()\n",
    "        print(result)\n",
    "        print(f\"Password Strength: {strength}\")\n",
    "    except Exception as e:\n",
    "        \n",
    "        print(f\"An error occurred: {e}\")\n",
    "\n",
    "\n",
    "password_validator()\n"
   ]
  },
  {
   "cell_type": "code",
   "execution_count": null,
   "id": "c6a80264-65b1-4353-b58b-3a58a99ee03e",
   "metadata": {},
   "outputs": [],
   "source": []
  }
 ],
 "metadata": {
  "kernelspec": {
   "display_name": "Python 3 (ipykernel)",
   "language": "python",
   "name": "python3"
  },
  "language_info": {
   "codemirror_mode": {
    "name": "ipython",
    "version": 3
   },
   "file_extension": ".py",
   "mimetype": "text/x-python",
   "name": "python",
   "nbconvert_exporter": "python",
   "pygments_lexer": "ipython3",
   "version": "3.12.4"
  }
 },
 "nbformat": 4,
 "nbformat_minor": 5
}
